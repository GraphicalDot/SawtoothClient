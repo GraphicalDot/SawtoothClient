{
 "cells": [
  {
   "cell_type": "markdown",
   "metadata": {},
   "source": [
    "Its been decided that ideally there should be no user on the blockchain, Every account will be a organisation account and any organisation can make \n",
    "\n",
    "Child accounts under it, The benefit of doing so i.e the end user can also have more users under it and is not limited to specific actions on the blockchain.\n",
    "\n",
    "\n",
    "Keep a single table for the users and in that table every entry should have a role, child or organization "
   ]
  },
  {
   "cell_type": "markdown",
   "metadata": {},
   "source": [
    "## /create_organization \n",
    "\n",
    "#### <p>Args</p>\n",
    "   <p>&nbsp; &nbsp; 1. organization_name</p>\n",
    "<p>&nbsp; &nbsp; 2. tan_number</p>\n",
    "<p>&nbsp; &nbsp; 3. gst_number</p>\n",
    "<p>&nbsp; &nbsp; 4. pancard</p>\n",
    "<p>&nbsp; &nbsp; 5. phone_number</p>\n",
    "<p>&nbsp; &nbsp; 6. email</p>\n",
    "<p>&nbsp; &nbsp; 7. role</p>\n",
    "\n",
    "### Result:\n",
    "        \n",
    "   We need to check whether this details exists in the org_table of the database or not, If exists return an error If these details doesn’t exists then we need to create a float_account of this organisation, \n",
    "\n",
    "   Two cases follow\n",
    "   \n",
    "        \n",
    "   From the requester address or the role present in the DB, we can check if the requester is either one of the following \n",
    "\n",
    "   The requester is another organisation \n",
    "         Then requester dict from the auth function will have the float_account_idxs array\n",
    "\n",
    "\n",
    "   The requester is a child account for an organisation \n",
    "         If thats the case then the child_account transaction os this account does have parent_organistion public key.\n",
    "          Calculate orgnisation address, \n",
    "          Fetch state_data present at this address, if none exists return an error \n",
    "          If state data exists, then find the flt_account_idxs key of the parent organisation\n",
    "\n",
    "\n",
    "   Now generate a random index which is not present in the float_account_idxs and then generate Public/private keys for this random index at the parent.\n",
    "\n",
    "   Now make a float_account_transaction on the blockchain, The transaction will be signed by the \n",
    "   \n",
    "   The payload of the transaction is to be signed and hashed at separate keys in the transaction, This payload must be signed by the zeroth private key of the parent.\n",
    "\n",
    "   Once floated, The processor will fetch the parent address and he public key associated with it.\n",
    "   \n",
    "   It will check whether this is a valid transaction or not.\n",
    "\n"
   ]
  },
  {
   "cell_type": "markdown",
   "metadata": {},
   "source": [
    "\n",
    "## /create_child_account \n",
    "\n",
    "#### <p>Args: </p><br>\n",
    "        email: Should be child email\n",
    "        \n",
    "        phone_number: should be child phone_number\n",
    "\n",
    "\t\tfirst_name: should be child first name\n",
    "\n",
    "\t\tlast_name: should be child last_name \n",
    "\n",
    "\t\tpassword: Password for the child account login \n",
    "\n",
    "\n",
    "\n",
    "#### Result:\n",
    "\n",
    "   First check whether the requester is present in the table org_table, if not Error\n",
    "   The check whether this account has been claimed or not, if Not Error\n",
    "   Check if email is present in the child_table, if yes, Return Error \n",
    "\n",
    "   Requester will have the whole entry of the requester present in the database \n",
    "\n",
    "   Now, generate new random_index at the child_account_idxs array, which is not already present \n",
    "\n",
    "   Generate public/private key pair of the requester at this random_index \n",
    "\n",
    "   From the public key, make a child account address, The index shouldn’t be random_index but 0, as all the account addresses have 0 index, the difference being here the child account address is not the their zeroth key but the public key generated from child_account_idxs of the parent \n",
    "\n",
    "   Now generate a new account i.e account with new mnemonic and the details of the child.\n",
    "\n",
    "   The mnemonic should also be encrypted with password given.\n",
    "   \n",
    "   Now Make a create_child transaction, at the address publickey(from child_account_idxs parent) The transaction_signer will be the private key corresponding to this public key \n",
    "\n",
    "   There will be another key, hash of all four details and then sign this hash with private key account of the requester. Thesekey should also be present in the final transaction stored on the blockchain in case anybody wants to check if this is the valid child_account for a particular organisation .\n"
   ]
  },
  {
   "cell_type": "markdown",
   "metadata": {},
   "source": [
    "## /claim_account \n"
   ]
  },
  {
   "cell_type": "markdown",
   "metadata": {},
   "source": [
    "## /create_asset (requester)\n",
    "\n",
    "An asset canbe a fully fledged asset or can be a empty one, In ideal case secnario whenever somebody wants to issue a certificate to another user, The issuer needs to create a asset and receiver needs to create an empy asset.\n",
    "Now the process to follow to create asset for any party, empty or non empty \n",
    "\n",
    "\n",
    "Args \n",
    "\n",
    "\n",
    "#### process\n",
    "\n",
    "1. First of all decrypt the user menmoni with the admin organization public key.\n",
    "2. Check requester role.\n",
    "3. If user is child, then fetch the parent orgnization state from the Blockchain.\n",
    "4. Get the create_asset_idxs from the parent organization account.\n",
    "5. If user is orgnization itself, retrive the orgnization account present in the database, retrive the create_asset_idxs array\n",
    "3. Generate random key_index on this array.\n",
    "4. Use remote_calls module to get Public/Private key pair at this index from the decrypted organization mnemonic.\n",
    "5. Check if file_data is there, File_data wil be empty for empty create_asset transaction \n",
    "6. If file data is there, generate a random AES key.\n",
    "7. Store this encrypted data on s3_url\n",
    "8. Encrypt AES key and s3 url with public key generated at random index.\n",
    "\n",
    "\n",
    "Provisions for Admin \n",
    "9. From the random index generated above, get public/private key pirs from the admin mnemonic\n",
    "10. Encrypt AES and s3 url with This public key.\n",
    "\n",
    "Provsions for PARENT ORGNIZATION\n",
    "11. If the user is child menmonic, Then from the radom index generated above get the Public/Private key for the parent orgnization.\n",
    "12. Encrypt AES and s3 Url with this public key.\n",
    "\n",
    "\n",
    "\n",
    "Change in blokchchain:\n",
    "1. Change child_Account and add random index in the create_asset_idxs array.\n",
    "2. Also if the user was a child, add random index to the parent_orgnization create_asset_idxs array.\n",
    "3. float a create_asset_transaction on the blockchain according to the proro file.\n",
    "\n",
    "\n",
    "The transaction signer must be orgnization Public/private key pair. "
   ]
  },
  {
   "cell_type": "markdown",
   "metadata": {},
   "source": [
    "## /share_asset\n",
    "\n",
    "Any organization or their child account can share their certificate, whether they have generated it or they ave received with wny third party, e it orgnisation or any child account.\n",
    "\n",
    "\n",
    "\n",
    "If the receiver is a child account. \n",
    "    The child will generate a random index at the parent organization receive_asset_transacition, \n",
    "    \n",
    "\n",
    "\n",
    "If receiver is the organisation itself.\n",
    "    Organisation will generate a new random index at the receive_asset_idxs array, a receive_asset address will be created.\n",
    "    On this receive_asset transaction all the details related to this use case will be added\n",
    "    \n",
    "   proto must have orgnization_name, org_public, child_public, purpose, _id_\n",
    "\n",
    "   Once receive_asset transaction is floated, \n",
    "   \n",
    "   The owner of the asset can float a share_Asset transaction where the receiver_address will be this receive_asset transaction address.\n",
    "\n",
    "\n",
    "If someday, this original asset needs to be deactivate, The asset have a shared_with array, so we must iterate ver this array and market every share_asset transaction inactive.\n"
   ]
  },
  {
   "cell_type": "markdown",
   "metadata": {},
   "source": [
    "## /transfer_asset\n"
   ]
  },
  {
   "cell_type": "markdown",
   "metadata": {},
   "source": [
    "## /Upload\n",
    "    required_fields = [\"usr_phone_number\", \"usr_email\", \"usr_pancard\",\n",
    "                \"file_name\", \"base64_file_bytes\", \"file_hash\", \"scope\",\n",
    "                \"expired_on\", \"usr_role\"]"
   ]
  },
  {
   "cell_type": "markdown",
   "metadata": {},
   "source": [
    "## /change_password"
   ]
  },
  {
   "cell_type": "markdown",
   "metadata": {},
   "source": [
    "## /deactivate_organization"
   ]
  },
  {
   "cell_type": "markdown",
   "metadata": {},
   "source": [
    "## /deactivate_child"
   ]
  },
  {
   "cell_type": "markdown",
   "metadata": {},
   "source": [
    "## /sign_asset"
   ]
  },
  {
   "cell_type": "markdown",
   "metadata": {},
   "source": [
    "## /get_child_accounts\n",
    "\n",
    "Get the requester entry from the database "
   ]
  },
  {
   "cell_type": "markdown",
   "metadata": {},
   "source": [
    "## /get_assets"
   ]
  },
  {
   "cell_type": "markdown",
   "metadata": {},
   "source": [
    "## /get_shared_assets\n",
    "\n",
    "Get all teh assets that has been shared with a particular received_address "
   ]
  },
  {
   "cell_type": "markdown",
   "metadata": {},
   "source": [
    "## /upload_certificate_of_incorporation \n",
    "Which will hsow that it is a valid incorporation"
   ]
  },
  {
   "cell_type": "code",
   "execution_count": null,
   "metadata": {},
   "outputs": [],
   "source": [
    "#check if the float account is claimed or ot on every asset transaction"
   ]
  }
 ],
 "metadata": {
  "kernelspec": {
   "display_name": "Python 3",
   "language": "python",
   "name": "python3"
  },
  "language_info": {
   "codemirror_mode": {
    "name": "ipython",
    "version": 3
   },
   "file_extension": ".py",
   "mimetype": "text/x-python",
   "name": "python",
   "nbconvert_exporter": "python",
   "pygments_lexer": "ipython3",
   "version": "3.6.5"
  }
 },
 "nbformat": 4,
 "nbformat_minor": 2
}
